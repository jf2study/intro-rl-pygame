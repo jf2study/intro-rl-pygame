{
 "cells": [
  {
   "cell_type": "code",
   "execution_count": 1,
   "metadata": {
    "colab": {
     "base_uri": "https://localhost:8080/"
    },
    "id": "UKoEuGpLHBw0",
    "outputId": "674a3e16-27d8-4776-8d08-03c946653a00"
   },
   "outputs": [
    {
     "name": "stdout",
     "output_type": "stream",
     "text": [
      "Collecting tf-agents\n",
      "\u001b[?25l  Downloading https://files.pythonhosted.org/packages/96/f5/4b5ddf7138d2fdaad2f7d44437372525859183cdac4ffad3fd86a94f8f52/tf_agents-0.8.0-py3-none-any.whl (1.2MB)\n",
      "\u001b[K     |████████████████████████████████| 1.2MB 6.9MB/s \n",
      "\u001b[?25hRequirement already satisfied: numpy>=1.13.3 in /usr/local/lib/python3.7/dist-packages (from tf-agents) (1.19.5)\n",
      "Requirement already satisfied: absl-py>=0.6.1 in /usr/local/lib/python3.7/dist-packages (from tf-agents) (0.12.0)\n",
      "Collecting tensorflow-probability==0.12.2\n",
      "\u001b[?25l  Downloading https://files.pythonhosted.org/packages/9c/c0/d6a9212d3e74748474b59e077e85ca577308c808eee93f9d2e11c3f1cc16/tensorflow_probability-0.12.2-py2.py3-none-any.whl (4.8MB)\n",
      "\u001b[K     |████████████████████████████████| 4.8MB 19.0MB/s \n",
      "\u001b[?25hRequirement already satisfied: wrapt>=1.11.1 in /usr/local/lib/python3.7/dist-packages (from tf-agents) (1.12.1)\n",
      "Requirement already satisfied: cloudpickle>=1.3 in /usr/local/lib/python3.7/dist-packages (from tf-agents) (1.3.0)\n",
      "Requirement already satisfied: protobuf>=3.11.3 in /usr/local/lib/python3.7/dist-packages (from tf-agents) (3.12.4)\n",
      "Requirement already satisfied: typing-extensions>=3.7.4.3 in /usr/local/lib/python3.7/dist-packages (from tf-agents) (3.7.4.3)\n",
      "Requirement already satisfied: six>=1.10.0 in /usr/local/lib/python3.7/dist-packages (from tf-agents) (1.15.0)\n",
      "Requirement already satisfied: gin-config>=0.4.0 in /usr/local/lib/python3.7/dist-packages (from tf-agents) (0.4.0)\n",
      "Requirement already satisfied: gym>=0.17.0 in /usr/local/lib/python3.7/dist-packages (from tf-agents) (0.17.3)\n",
      "Requirement already satisfied: dm-tree in /usr/local/lib/python3.7/dist-packages (from tensorflow-probability==0.12.2->tf-agents) (0.1.6)\n",
      "Requirement already satisfied: gast>=0.3.2 in /usr/local/lib/python3.7/dist-packages (from tensorflow-probability==0.12.2->tf-agents) (0.4.0)\n",
      "Requirement already satisfied: decorator in /usr/local/lib/python3.7/dist-packages (from tensorflow-probability==0.12.2->tf-agents) (4.4.2)\n",
      "Requirement already satisfied: setuptools in /usr/local/lib/python3.7/dist-packages (from protobuf>=3.11.3->tf-agents) (56.1.0)\n",
      "Requirement already satisfied: scipy in /usr/local/lib/python3.7/dist-packages (from gym>=0.17.0->tf-agents) (1.4.1)\n",
      "Requirement already satisfied: pyglet<=1.5.0,>=1.4.0 in /usr/local/lib/python3.7/dist-packages (from gym>=0.17.0->tf-agents) (1.5.0)\n",
      "Requirement already satisfied: future in /usr/local/lib/python3.7/dist-packages (from pyglet<=1.5.0,>=1.4.0->gym>=0.17.0->tf-agents) (0.16.0)\n",
      "Installing collected packages: tensorflow-probability, tf-agents\n",
      "  Found existing installation: tensorflow-probability 0.12.1\n",
      "    Uninstalling tensorflow-probability-0.12.1:\n",
      "      Successfully uninstalled tensorflow-probability-0.12.1\n",
      "Successfully installed tensorflow-probability-0.12.2 tf-agents-0.8.0\n"
     ]
    }
   ],
   "source": [
    "!pip install tf-agents"
   ]
  },
  {
   "cell_type": "code",
   "execution_count": null,
   "metadata": {
    "id": "2GT6HYBLNr39"
   },
   "outputs": [],
   "source": [
    "# https://towardsdatascience.com/creating-a-custom-environment-for-tensorflow-agent-tic-tac-toe-example-b66902f73059"
   ]
  },
  {
   "cell_type": "code",
   "execution_count": 4,
   "metadata": {
    "id": "owyKXGf6HE1p"
   },
   "outputs": [],
   "source": [
    "import tensorflow as tf\n",
    "import numpy as np\n",
    "from tf_agents.environments import py_environment\n",
    "from tf_agents.environments import tf_environment\n",
    "from tf_agents.environments import tf_py_environment\n",
    "from tf_agents.environments import utils\n",
    "from tf_agents.specs import array_spec\n",
    "from tf_agents.environments import wrappers\n",
    "from tf_agents.environments import suite_gym\n",
    "from tf_agents.trajectories import time_step as ts"
   ]
  },
  {
   "cell_type": "code",
   "execution_count": 16,
   "metadata": {
    "id": "M1MzPkx1HNeE"
   },
   "outputs": [],
   "source": [
    "class SimplifiedTicTacToe(py_environment.PyEnvironment):  \n",
    "\n",
    "    def __init__(self):\n",
    "      self._action_spec = array_spec.BoundedArraySpec(\n",
    "          shape=(), dtype=np.int32, minimum=0, maximum=8, name='play')\n",
    "      self._observation_spec = array_spec.BoundedArraySpec(\n",
    "          shape=(1,9), dtype=np.int32, minimum=0, maximum=1, name='board')\n",
    "      self._state = [0, 0, 0, 0, 0, 0, 0, 0, 0]\n",
    "      self._episode_ended = False  \n",
    "    \n",
    "    def action_spec(self):\n",
    "      return self._action_spec  \n",
    "    def observation_spec(self):\n",
    "      return self._observation_spec\n",
    "    def _reset(self):\n",
    "      # state at the start of the game\n",
    "      self._state = [0, 0, 0, 0, 0, 0, 0, 0, 0]\n",
    "      self._episode_ended = False\n",
    "      return ts.restart(np.array([self._state], dtype=np.int32))\n",
    "    def __is_spot_empty(self, ind):\n",
    "      return self._state[ind] == 0\n",
    "\n",
    "    def __all_spots_occupied(self):\n",
    "      return all(i == 1 for i in self._state)\n",
    "\n",
    "    def _step(self, action):    \n",
    "      if self._episode_ended:\n",
    "          return self.reset()    \n",
    "      if self.__is_spot_empty(action):        \n",
    "          self._state[action] = 1\n",
    "          \n",
    "          if self.__all_spots_occupied():\n",
    "              self._episode_ended = True\n",
    "              return ts.termination(np.array([self._state], dtype=np.int32), 1)\n",
    "          else:\n",
    "              return ts.transition(np.array([self._state], dtype=np.int32), reward=0.05, discount=1.0)\n",
    "      else:\n",
    "          self._episode_ended = True\n",
    "          return ts.termination(np.array([self._state], dtype=np.int32), -1)"
   ]
  },
  {
   "cell_type": "code",
   "execution_count": 17,
   "metadata": {
    "id": "129GfkeRICHF"
   },
   "outputs": [],
   "source": [
    "python_environment = SimplifiedTicTacToe()\n",
    "tf_env = tf_py_environment.TFPyEnvironment(python_environment)"
   ]
  },
  {
   "cell_type": "code",
   "execution_count": 25,
   "metadata": {
    "id": "6G6EqS0AN8il"
   },
   "outputs": [],
   "source": [
    "time_step = tf_env.reset()\n",
    "rewards = []\n",
    "steps = []\n",
    "number_of_episodes = 10000\n",
    "\n",
    "for _ in range(number_of_episodes):\n",
    "  episode_reward = 0\n",
    "  episode_steps = 0 \n",
    "  reward_t = 0\n",
    "  steps_t = 0\n",
    "  tf_env.reset()\n",
    "  while True:\n",
    "    action = tf.random.uniform([1], 0, 9, dtype=tf.int32)\n",
    "    next_time_step = tf_env.step(action)\n",
    "    if tf_env.current_time_step().is_last():\n",
    "      break\n",
    "\n",
    "    episode_steps += 1\n",
    "    episode_reward += next_time_step.reward.numpy()\n",
    "  rewards.append(episode_reward)\n",
    "  steps.append(episode_steps)"
   ]
  },
  {
   "cell_type": "code",
   "execution_count": 26,
   "metadata": {
    "id": "A6MKRPblOSXw"
   },
   "outputs": [],
   "source": [
    "mean_no_of_steps = np.mean(steps)"
   ]
  },
  {
   "cell_type": "code",
   "execution_count": 27,
   "metadata": {
    "colab": {
     "base_uri": "https://localhost:8080/"
    },
    "id": "rV43DvoDXlXJ",
    "outputId": "6ec0f287-4975-4ca2-dbc6-b26211f3344a"
   },
   "outputs": [
    {
     "data": {
      "text/plain": [
       "3.4586"
      ]
     },
     "execution_count": 27,
     "metadata": {
      "tags": []
     },
     "output_type": "execute_result"
    }
   ],
   "source": [
    "mean_no_of_steps"
   ]
  },
  {
   "cell_type": "code",
   "execution_count": null,
   "metadata": {
    "id": "h3Ty_4R1Xrqs"
   },
   "outputs": [],
   "source": []
  }
 ],
 "metadata": {
  "colab": {
   "name": "Py_environment.ipynb",
   "provenance": []
  },
  "kernelspec": {
   "display_name": "Python 3",
   "language": "python",
   "name": "python3"
  },
  "language_info": {
   "codemirror_mode": {
    "name": "ipython",
    "version": 3
   },
   "file_extension": ".py",
   "mimetype": "text/x-python",
   "name": "python",
   "nbconvert_exporter": "python",
   "pygments_lexer": "ipython3",
   "version": "3.8.5"
  }
 },
 "nbformat": 4,
 "nbformat_minor": 1
}
