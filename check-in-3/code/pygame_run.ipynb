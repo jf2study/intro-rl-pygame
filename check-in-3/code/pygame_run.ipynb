{
  "nbformat": 4,
  "nbformat_minor": 0,
  "metadata": {
    "colab": {
      "name": "pygame_run.ipynb",
      "provenance": [],
      "collapsed_sections": []
    },
    "kernelspec": {
      "name": "python3",
      "display_name": "Python 3"
    },
    "language_info": {
      "name": "python"
    }
  },
  "cells": [
    {
      "cell_type": "code",
      "metadata": {
        "colab": {
          "base_uri": "https://localhost:8080/"
        },
        "id": "qGWPI0Gf2EUR",
        "outputId": "c0bce62f-933a-465b-c98e-0ef8bb49bc23"
      },
      "source": [
        "pip install pygame"
      ],
      "execution_count": 3,
      "outputs": [
        {
          "output_type": "stream",
          "text": [
            "Collecting pygame\n",
            "\u001b[?25l  Downloading https://files.pythonhosted.org/packages/4b/9e/c400554dd1d0e562bd4379f35ad5023c68fc120003a58991405850f56f95/pygame-2.0.1-cp37-cp37m-manylinux1_x86_64.whl (11.8MB)\n",
            "\u001b[K     |████████████████████████████████| 11.8MB 5.1MB/s \n",
            "\u001b[?25hInstalling collected packages: pygame\n",
            "Successfully installed pygame-2.0.1\n"
          ],
          "name": "stdout"
        }
      ]
    },
    {
      "cell_type": "code",
      "metadata": {
        "colab": {
          "base_uri": "https://localhost:8080/"
        },
        "id": "wtD3PAj92eHN",
        "outputId": "dcc8c4fa-9c9c-4a0f-dc15-8c1f74d03ce9"
      },
      "source": [
        "import cv2\n",
        "from google.colab.patches import cv2_imshow\n",
        "from google.colab import output\n",
        "import time \n",
        "import os as os\n",
        "import sys as sys\n",
        "import pygame"
      ],
      "execution_count": 4,
      "outputs": [
        {
          "output_type": "stream",
          "text": [
            "pygame 2.0.1 (SDL 2.0.14, Python 3.7.10)\n",
            "Hello from the pygame community. https://www.pygame.org/contribute.html\n"
          ],
          "name": "stdout"
        }
      ]
    },
    {
      "cell_type": "code",
      "metadata": {
        "id": "3WJpDjTy3k0o"
      },
      "source": [
        "# set SDL to use the dummy NULL video driver, \n",
        "#   so it doesn't need a windowing system.\n",
        "os.environ[\"SDL_VIDEODRIVER\"] = \"dummy\""
      ],
      "execution_count": 5,
      "outputs": []
    },
    {
      "cell_type": "code",
      "metadata": {
        "colab": {
          "base_uri": "https://localhost:8080/"
        },
        "id": "CYYeaO_156ue",
        "outputId": "8ec2cfc3-f2c3-4e43-fcdc-1bcb902bf036"
      },
      "source": [
        "from google.colab import drive\n",
        "drive.mount('/content/drive')"
      ],
      "execution_count": 7,
      "outputs": [
        {
          "output_type": "stream",
          "text": [
            "Drive already mounted at /content/drive; to attempt to forcibly remount, call drive.mount(\"/content/drive\", force_remount=True).\n"
          ],
          "name": "stdout"
        }
      ]
    },
    {
      "cell_type": "code",
      "metadata": {
        "id": "YcxYg-Ae8tPy"
      },
      "source": [
        "mounted_drive = '/content/drive/MyDrive/'\n",
        "os.chdir(mounted_drive)"
      ],
      "execution_count": 13,
      "outputs": []
    },
    {
      "cell_type": "code",
      "metadata": {
        "colab": {
          "base_uri": "https://localhost:8080/"
        },
        "id": "bWxXd2Cb7-mr",
        "outputId": "16a04baa-a7ab-468b-87a5-1860b93787ce"
      },
      "source": [
        "os.listdir('/content/drive/MyDrive/images')"
      ],
      "execution_count": 14,
      "outputs": [
        {
          "output_type": "execute_result",
          "data": {
            "text/plain": [
              "['enemy.png', 'stage.jpg', 'hero1.png', 'hero2.png', 'hero3.png', 'hero4.png']"
            ]
          },
          "metadata": {
            "tags": []
          },
          "execution_count": 14
        }
      ]
    },
    {
      "cell_type": "code",
      "metadata": {
        "id": "AWnKgLIN-Yv-"
      },
      "source": [
        ""
      ],
      "execution_count": null,
      "outputs": []
    },
    {
      "cell_type": "code",
      "metadata": {
        "colab": {
          "base_uri": "https://localhost:8080/",
          "height": 938
        },
        "id": "X40YVo6M3qG8",
        "outputId": "26a2601c-30fc-4478-936d-847c55029e7f"
      },
      "source": [
        "import numpy as np\n",
        "\n",
        "\n",
        "col_about_to_die = (200, 200, 225)\n",
        "col_alive = (255, 255, 215)\n",
        "col_background = (10, 10, 40)\n",
        "col_grid = (30, 30, 60)\n",
        "col_red = (255, 0, 0)\n",
        "world = pygame.display.set_mode([100, 70])\n",
        "\n",
        "pattern = np.array([[0,2,0,0,0,0,0,0,0,0,0,0,0,0,0,0,0,0,0,0,0,0,0,0,0,0,0,0,2,0,0,0,0,0,0,0,0,0,0],\n",
        "                    [0,2,2,0,0,0,0,0,0,0,0,0,0,0,0,0,0,0,0,0,0,0,0,0,0,0,0,0,2,0,0,0,0,0,0,0,0,0,0],\n",
        "                    [0,0,2,2,0,0,0,0,0,0,0,0,0,0,0,0,0,0,0,0,0,0,0,0,0,0,0,0,2,0,0,0,0,0,0,0,0,0,0],\n",
        "                    [0,0,0,2,2,0,0,0,0,0,0,0,0,0,0,0,0,0,0,0,0,0,0,0,0,0,0,0,2,0,0,0,0,0,0,0,0,0,0],\n",
        "                    [0,0,0,0,2,0,0,0,0,0,0,0,0,0,0,0,0,0,0,0,0,0,0,0,0,0,0,0,2,0,0,0,0,0,0,0,0,0,0],\n",
        "                    [0,0,0,0,2,2,2,0,0,0,0,0,0,0,0,0,0,0,0,0,0,0,0,0,0,0,0,0,2,0,0,0,0,0,0,0,0,0,0],\n",
        "                    [0,0,0,0,0,0,2,0,0,0,0,0,0,0,0,0,0,0,0,0,0,0,0,0,0,0,0,0,2,0,0,0,0,0,0,0,0,0,0],\n",
        "                    [0,0,0,0,0,0,2,2,2,2,0,0,0,0,0,0,0,0,0,0,0,0,0,0,0,0,0,0,2,0,0,0,0,0,0,0,0,0,0],\n",
        "                    [0,0,0,0,0,0,0,0,0,2,0,0,0,0,0,0,0,0,0,0,0,0,0,0,0,0,0,0,2,0,0,0,0,0,0,0,0,0,0]]);\n",
        "\n",
        "def update(surface, cur, sz):\n",
        "    nxt = np.zeros((cur.shape[0], cur.shape[1]))\n",
        "    for (i,row) in enumerate(pattern):\n",
        "        for (j,value) in enumerate(row):\n",
        "            nxt[i,j] = value\n",
        "    choices = [i for i in range(0,cur.shape[0])]\n",
        "    move_direction_choices = [-1, 0,1]\n",
        "    x_y_direction = [-1, 1]\n",
        "    counter = 0\n",
        "\n",
        "    for r, c in np.ndindex(cur.shape):\n",
        "        counter += 1\n",
        "        #if cur[r, c] == 1: # and num_alive < 2 or num_alive > 3:\n",
        "        if 1 in cur[r]:\n",
        "            if cur[r,c] == 1:\n",
        "                direction = np.random.choice(move_direction_choices)\n",
        "                x_y_direction_choices = np.random.choice(x_y_direction)\n",
        "                nxt_r = r\n",
        "                nxt_c = c\n",
        "\n",
        "                if not has_neighbors(nxt, r, c) and nxt[r,c] == 1:\n",
        "                    nxt[r, c] = 0\n",
        "                    if x_y_direction_choices == -1:\n",
        "                        nxt_r = (r + direction)%cur.shape[0]\n",
        "                        if nxt[nxt_r, nxt_c] == 2:\n",
        "                            nxt_r = (r - direction)%cur.shape[0]\n",
        "                    else:\n",
        "                        nxt_c = (c + direction) % cur.shape[1]\n",
        "                        if nxt[nxt_r, nxt_c] == 2:\n",
        "                            nxt_c = (c - direction) % cur.shape[1]\n",
        "                    nxt[nxt_r, nxt_c] = 1\n",
        "                else:\n",
        "                    nxt[r,c] = 1\n",
        "                #nxt_c = (c+direction) % cur.shape[1]\n",
        "                #nxt_dir = direction\n",
        "                #if nxt[r, nxt_c] == 2:\n",
        "                #    nxt_dir = direction\n",
        "                #    nxt_c = (c + (-1 * direction)) % cur.shape[1]\n",
        "\n",
        "                #if r != 4:\n",
        "                #col = col_about_to_die\n",
        "                #else:\n",
        "                #    col = col_red\n",
        "\n",
        "            #if r == c:\n",
        "            #    nxt[r, c] = 0\n",
        "            #    nxt[r, (c+1) % cur.shape[1]] = 1\n",
        "            #    col = col_about_to_die\n",
        "        #elif (cur[r, c] == 1 and 2 <= num_alive <= 3) or (cur[r, c] == 0 and num_alive == 3):\n",
        "        elif cur[r,c] == 0:\n",
        "        #else:\n",
        "            in_column = False\n",
        "            for i in range(0, cur.shape[0]):\n",
        "                if nxt[i, c] == 1:\n",
        "                    in_column = True\n",
        "            if 1 not in nxt[r] and not in_column and nxt.sum() < 60:\n",
        "\n",
        "                pop_row = np.random.choice(choices)\n",
        "                nxt[r,c] = 1\n",
        "            #if nxt[r, c-1] == 1:\n",
        "            #    nxt[r, (c-1)] = 0\n",
        "            #    nxt[r, c] = 1\n",
        "            #nxt[r,(c + 2) % cur.shape[1]] = 1\n",
        "                col = col_alive\n",
        "        #num_alive = np.sum(cur[r-1:r+2, c-1:c+2]) - cur[r, c]\n",
        "\n",
        "        #    col = col_red\n",
        "        #if cur[r, c] == 1 and num_alive < 2 or num_alive > 3:\n",
        "        #    col = col_about_to_die\n",
        "        #elif (cur[r, c] == 1 and 2 <= num_alive <= 3) or (cur[r, c] == 0 and num_alive == 3):\n",
        "        #    nxt[r, c] = 1\n",
        "        #    col = col_alive\n",
        "\n",
        "        col = col_alive if cur[r, c] == 1 else col_background if cur[r,c] == 0 else col_red\n",
        "        #pygame.draw.rect(surface, col, (c*sz, r*sz, sz-1, sz-1))\n",
        "\n",
        "        pygame.draw.rect(surface, col, (c*sz, r*sz, sz-1, sz-1))\n",
        "\n",
        "    return nxt\n",
        "\n",
        "def has_neighbors(neighborhood, r, c):\n",
        "    for i in [-1, 1]:\n",
        "        if neighborhood[r + i, c] == 1:\n",
        "            return True\n",
        "    for j in [-1, 1]:\n",
        "        if neighborhood[r, c + j] == 1:\n",
        "            return True\n",
        "    return False\n",
        "\n",
        "def init(dimx, dimy):\n",
        "  \n",
        "    cells = np.zeros((dimy, dimx))\n",
        "\n",
        "    pattern = np.array([[0,0,0,0,0,0,0,0,0,0,0,0,0,0,0,0,0,0,0,0,0,0,0,0,1,0,0,0,0,0,0,0,0,0,0,0,0,0,0],\n",
        "                                        [0,0,0,0,0,0,0,0,0,0,0,0,0,0,0,0,0,0,0,0,0,0,2,0,2,0,0,0,0,0,0,0,0,0,0,0,0,0,0],\n",
        "                                        [0,0,0,0,0,0,0,0,0,0,0,0,2,2,0,0,0,0,0,0,2,2,0,0,0,0,0,0,0,0,0,0,0,0,2,2,0,0,0],\n",
        "                                        [0,0,0,0,0,0,0,0,0,0,0,2,0,0,0,2,0,0,0,0,2,2,0,0,0,0,0,0,0,0,0,0,0,0,2,2,0,0,0],\n",
        "                                        [2,2,0,0,0,0,0,0,0,0,2,0,0,0,0,0,2,0,0,0,2,2,0,0,0,0,0,0,0,0,0,0,0,0,0,0,0,0,0],\n",
        "                                        [2,2,0,0,0,0,0,0,0,0,2,0,0,0,2,0,2,2,0,0,0,0,2,0,2,0,0,0,0,0,0,0,0,0,0,0,0,0,0],\n",
        "                                        [0,0,0,0,0,0,0,0,0,0,2,0,0,0,0,0,2,0,0,0,0,0,0,0,2,0,0,0,0,0,0,0,0,0,0,0,0,0,0],\n",
        "                                        [0,0,0,0,0,0,0,0,0,0,0,2,0,0,0,2,0,0,0,0,0,0,0,0,0,0,0,0,0,0,0,0,0,0,0,0,0,0,0],\n",
        "                                        [0,0,0,0,0,0,0,0,0,0,0,0,2,2,0,0,0,0,0,0,0,0,0,0,0,0,0,0,0,0,0,0,0,0,0,0,0,0,0]]);\n",
        "\n",
        "    #pattern = np.array([[0,0,0,0,0,0,0,0,0,0,0,0,0,0,0,0,0,0,0,0,0,0,0,0,1,0,0,0,0,0,0,0,0,0,0,0,0,0,0],\n",
        "    #                    [0,0,0,0,0,0,0,0,0,0,0,0,0,0,0,0,0,0,0,0,0,0,1,0,1,0,0,0,0,0,0,0,0,0,0,0,0,0,0],\n",
        "    #                    [0,0,0,0,0,0,0,0,0,0,0,0,1,1,0,0,0,0,0,0,1,1,0,0,0,0,0,0,0,0,0,0,0,0,1,1,0,0,0],\n",
        "    #                    [0,0,0,0,0,0,0,0,0,0,0,1,0,0,0,1,0,0,0,0,1,1,0,0,0,0,0,0,0,0,0,0,0,0,1,1,0,0,0],\n",
        "    #                    [1,1,0,0,0,0,0,0,0,0,1,0,0,0,0,0,1,0,0,0,1,1,0,0,0,0,0,0,0,0,0,0,0,0,0,0,0,0,0],\n",
        "    #                    [1,1,0,0,0,0,0,0,0,0,1,0,0,0,1,0,1,1,0,0,0,0,1,0,1,0,0,0,0,0,0,0,0,0,0,0,0,0,0],\n",
        "    #                    [0,0,0,0,0,0,0,0,0,0,1,0,0,0,0,0,1,0,0,0,0,0,0,0,1,0,0,0,0,0,0,0,0,0,0,0,0,0,0],\n",
        "    #                    [0,0,0,0,0,0,0,0,0,0,0,1,0,0,0,1,0,0,0,0,0,0,0,0,0,0,0,0,0,0,0,0,0,0,0,0,0,0,0],\n",
        "    #                    [0,0,0,0,0,0,0,0,0,0,0,0,1,1,0,0,0,0,0,0,0,0,0,0,0,0,0,0,0,0,0,0,0,0,0,0,0,0,0]]);\n",
        "    pos = (3,3)\n",
        "    cells[pos[0]:pos[0]+pattern.shape[0], pos[1]:pos[1]+pattern.shape[1]] = pattern\n",
        "    return cells\n",
        "\n",
        "\n",
        "def main(dimx, dimy, cellsize):\n",
        "    pygame.init()\n",
        "    surface = pygame.display.set_mode((dimx * cellsize, dimy * cellsize))\n",
        "    pygame.display.set_caption(\"John Conway's Game of Life\")\n",
        "\n",
        "    cells = init(dimx, dimy)\n",
        "\n",
        "    while True:\n",
        "        for event in pygame.event.get():\n",
        "            if event.type == pygame.QUIT:\n",
        "                pygame.quit()\n",
        "                return\n",
        "\n",
        "        surface.fill(col_grid)\n",
        "        cells = update(surface, cells, cellsize)\n",
        "        #cells = update(surface, cells, cellsize)\n",
        "        pygame.display.update()\n",
        "\n",
        "\n",
        "\n",
        "\n",
        "        view = pygame.surfarray.array3d(world)\n",
        "\n",
        "        #  convert from (width, height, channel) to (height, width, channel)\n",
        "        view = view.transpose([1, 0, 2])\n",
        "\n",
        "        #  convert from rgb to bgr\n",
        "        #img_bgr = cv2.cvtColor(view, cv2.COLOR_RGB2BGR)\n",
        "\n",
        "        #Display image, clear cell every 0.5 seconds\n",
        "        #cv2_imshow(img_bgr)\n",
        "        time.sleep(.1)\n",
        "        output.clear()\n",
        "        output.clear(wait=True)\n",
        "        cv2_imshow(view)\n",
        "if __name__ == \"__main__\":\n",
        "    main(100, 70, 8)\n",
        "    #https://vishnudsharma.medium.com/visualizing-tkinter-and-pygame-in-colab-272c5a245f8c"
      ],
      "execution_count": 25,
      "outputs": [
        {
          "output_type": "display_data",
          "data": {
            "image/png": "[encoded data removed]",
            "text/plain": [
              "<PIL.Image.Image image mode=RGB size=800x560 at 0x7FA245479D50>"
            ]
          },
          "metadata": {
            "tags": []
          }
        },
        {
          "output_type": "error",
          "ename": "KeyboardInterrupt",
          "evalue": "ignored",
          "traceback": [
            "\u001b[0;31m---------------------------------------------------------------------------\u001b[0m",
            "\u001b[0;31mKeyboardInterrupt\u001b[0m                         Traceback (most recent call last)",
            "\u001b[0;32m<ipython-input-25-2b343469470d>\u001b[0m in \u001b[0;36m<module>\u001b[0;34m()\u001b[0m\n\u001b[1;32m    172\u001b[0m         \u001b[0mcv2_imshow\u001b[0m\u001b[0;34m(\u001b[0m\u001b[0mview\u001b[0m\u001b[0;34m)\u001b[0m\u001b[0;34m\u001b[0m\u001b[0;34m\u001b[0m\u001b[0m\n\u001b[1;32m    173\u001b[0m \u001b[0;32mif\u001b[0m \u001b[0m__name__\u001b[0m \u001b[0;34m==\u001b[0m \u001b[0;34m\"__main__\"\u001b[0m\u001b[0;34m:\u001b[0m\u001b[0;34m\u001b[0m\u001b[0;34m\u001b[0m\u001b[0m\n\u001b[0;32m--> 174\u001b[0;31m     \u001b[0mmain\u001b[0m\u001b[0;34m(\u001b[0m\u001b[0;36m100\u001b[0m\u001b[0;34m,\u001b[0m \u001b[0;36m70\u001b[0m\u001b[0;34m,\u001b[0m \u001b[0;36m8\u001b[0m\u001b[0;34m)\u001b[0m\u001b[0;34m\u001b[0m\u001b[0;34m\u001b[0m\u001b[0m\n\u001b[0m\u001b[1;32m    175\u001b[0m     \u001b[0;31m#https://vishnudsharma.medium.com/visualizing-tkinter-and-pygame-in-colab-272c5a245f8c\u001b[0m\u001b[0;34m\u001b[0m\u001b[0;34m\u001b[0m\u001b[0;34m\u001b[0m\u001b[0m\n",
            "\u001b[0;32m<ipython-input-25-2b343469470d>\u001b[0m in \u001b[0;36mmain\u001b[0;34m(dimx, dimy, cellsize)\u001b[0m\n\u001b[1;32m    150\u001b[0m \u001b[0;34m\u001b[0m\u001b[0m\n\u001b[1;32m    151\u001b[0m         \u001b[0msurface\u001b[0m\u001b[0;34m.\u001b[0m\u001b[0mfill\u001b[0m\u001b[0;34m(\u001b[0m\u001b[0mcol_grid\u001b[0m\u001b[0;34m)\u001b[0m\u001b[0;34m\u001b[0m\u001b[0;34m\u001b[0m\u001b[0m\n\u001b[0;32m--> 152\u001b[0;31m         \u001b[0mcells\u001b[0m \u001b[0;34m=\u001b[0m \u001b[0mupdate\u001b[0m\u001b[0;34m(\u001b[0m\u001b[0msurface\u001b[0m\u001b[0;34m,\u001b[0m \u001b[0mcells\u001b[0m\u001b[0;34m,\u001b[0m \u001b[0mcellsize\u001b[0m\u001b[0;34m)\u001b[0m\u001b[0;34m\u001b[0m\u001b[0;34m\u001b[0m\u001b[0m\n\u001b[0m\u001b[1;32m    153\u001b[0m         \u001b[0;31m#cells = update(surface, cells, cellsize)\u001b[0m\u001b[0;34m\u001b[0m\u001b[0;34m\u001b[0m\u001b[0;34m\u001b[0m\u001b[0m\n\u001b[1;32m    154\u001b[0m         \u001b[0mpygame\u001b[0m\u001b[0;34m.\u001b[0m\u001b[0mdisplay\u001b[0m\u001b[0;34m.\u001b[0m\u001b[0mupdate\u001b[0m\u001b[0;34m(\u001b[0m\u001b[0;34m)\u001b[0m\u001b[0;34m\u001b[0m\u001b[0;34m\u001b[0m\u001b[0m\n",
            "\u001b[0;32m<ipython-input-25-2b343469470d>\u001b[0m in \u001b[0;36mupdate\u001b[0;34m(surface, cur, sz)\u001b[0m\n\u001b[1;32m     72\u001b[0m             \u001b[0min_column\u001b[0m \u001b[0;34m=\u001b[0m \u001b[0;32mFalse\u001b[0m\u001b[0;34m\u001b[0m\u001b[0;34m\u001b[0m\u001b[0m\n\u001b[1;32m     73\u001b[0m             \u001b[0;32mfor\u001b[0m \u001b[0mi\u001b[0m \u001b[0;32min\u001b[0m \u001b[0mrange\u001b[0m\u001b[0;34m(\u001b[0m\u001b[0;36m0\u001b[0m\u001b[0;34m,\u001b[0m \u001b[0mcur\u001b[0m\u001b[0;34m.\u001b[0m\u001b[0mshape\u001b[0m\u001b[0;34m[\u001b[0m\u001b[0;36m0\u001b[0m\u001b[0;34m]\u001b[0m\u001b[0;34m)\u001b[0m\u001b[0;34m:\u001b[0m\u001b[0;34m\u001b[0m\u001b[0;34m\u001b[0m\u001b[0m\n\u001b[0;32m---> 74\u001b[0;31m                 \u001b[0;32mif\u001b[0m \u001b[0mnxt\u001b[0m\u001b[0;34m[\u001b[0m\u001b[0mi\u001b[0m\u001b[0;34m,\u001b[0m \u001b[0mc\u001b[0m\u001b[0;34m]\u001b[0m \u001b[0;34m==\u001b[0m \u001b[0;36m1\u001b[0m\u001b[0;34m:\u001b[0m\u001b[0;34m\u001b[0m\u001b[0;34m\u001b[0m\u001b[0m\n\u001b[0m\u001b[1;32m     75\u001b[0m                     \u001b[0min_column\u001b[0m \u001b[0;34m=\u001b[0m \u001b[0;32mTrue\u001b[0m\u001b[0;34m\u001b[0m\u001b[0;34m\u001b[0m\u001b[0m\n\u001b[1;32m     76\u001b[0m             \u001b[0;32mif\u001b[0m \u001b[0;36m1\u001b[0m \u001b[0;32mnot\u001b[0m \u001b[0;32min\u001b[0m \u001b[0mnxt\u001b[0m\u001b[0;34m[\u001b[0m\u001b[0mr\u001b[0m\u001b[0;34m]\u001b[0m \u001b[0;32mand\u001b[0m \u001b[0;32mnot\u001b[0m \u001b[0min_column\u001b[0m \u001b[0;32mand\u001b[0m \u001b[0mnxt\u001b[0m\u001b[0;34m.\u001b[0m\u001b[0msum\u001b[0m\u001b[0;34m(\u001b[0m\u001b[0;34m)\u001b[0m \u001b[0;34m<\u001b[0m \u001b[0;36m60\u001b[0m\u001b[0;34m:\u001b[0m\u001b[0;34m\u001b[0m\u001b[0;34m\u001b[0m\u001b[0m\n",
            "\u001b[0;31mKeyboardInterrupt\u001b[0m: "
          ]
        }
      ]
    },
    {
      "cell_type": "code",
      "metadata": {
        "id": "14Ogs8Hm3ygf"
      },
      "source": [
        ""
      ],
      "execution_count": null,
      "outputs": []
    }
  ]
}